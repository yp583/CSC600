{
 "cells": [
  {
   "cell_type": "markdown",
   "id": "761cdcef",
   "metadata": {},
   "source": [
    "# Machine Learning Prediction Model for Stocks\n",
    "\n",
    "\n",
    "### Overview\n",
    "---\n",
    "In this project, an AI model to predict stock prices for the future is created. Stock data from Yahoo Finance is gathered, which is imported into the program using the [yfinance library](https://github.com/ranaroussi/yfinance). Using this data, some helpful indicators are also created with a technique called feature engineering to benefit the prediction capabilities of the model. Professional traders do this as well, using indicators like [SMA](https://www.investopedia.com/terms/s/sma.asp) to aid in their trading and investing strategies. The stock data along with these newly created features are then used to train an AI model, which then makes predictions for future stock prices. \n",
    "\n",
    "### The Data\n",
    "---\n",
    "To get the data, we first have to import the yfinance library"
   ]
  },
  {
   "cell_type": "code",
   "execution_count": 229,
   "id": "97c9e80e",
   "metadata": {},
   "outputs": [],
   "source": [
    "import yfinance as yf"
   ]
  },
  {
   "cell_type": "markdown",
   "id": "323e65e6",
   "metadata": {},
   "source": [
    "Then, we decide what ticker we want to get data from and how far back we want to collect data from. In this case we choose AAPL, or Apple's stock ticker and we decide to get the last week's data."
   ]
  },
  {
   "cell_type": "code",
   "execution_count": 230,
   "id": "65ea46c9",
   "metadata": {},
   "outputs": [],
   "source": [
    "ticker = \"AAPL\" #ticker to get data from\n",
    "period = \"1w\" #d for days, w for weeks, m for months, y for years"
   ]
  },
  {
   "cell_type": "markdown",
   "id": "609be943",
   "metadata": {},
   "source": [
    "Finally we make an API call to yfinance in order to get the history of this ticker."
   ]
  },
  {
   "cell_type": "code",
   "execution_count": 231,
   "id": "d6ee343e",
   "metadata": {},
   "outputs": [
    {
     "name": "stdout",
     "output_type": "stream",
     "text": [
      "                                 Open        High         Low       Close  \\\n",
      "Date                                                                        \n",
      "2023-02-24 00:00:00-05:00  147.110001  147.190002  145.720001  146.710007   \n",
      "\n",
      "                             Volume  Dividends  Stock Splits  \n",
      "Date                                                          \n",
      "2023-02-24 00:00:00-05:00  55418200          0             0  \n"
     ]
    }
   ],
   "source": [
    "info = yf.Ticker(ticker) #initializes the ticker with yfinance library\n",
    "history = info.history(period=period) #data going back to however many years specified by parameter. Returned is a pandas dataframe.\n",
    "print(history)"
   ]
  },
  {
   "cell_type": "markdown",
   "id": "1689c295",
   "metadata": {},
   "source": [
    "For our purposes, we can ignore everything except the *Close* and *Volume* columns as the rest of the columns do not serve to add much in terms of training our model.\n",
    "\n",
    "To make our code cleaner and easier to access we will put all of the code above into a function called *gethist* to get stock data whenever we need it."
   ]
  },
  {
   "cell_type": "code",
   "execution_count": 232,
   "id": "d0099bcc",
   "metadata": {},
   "outputs": [],
   "source": [
    "import yfinance as yf\n",
    "def gethist(ticker, period):\n",
    "    info = yf.Ticker(ticker) #initializes the ticker with yfinance library\n",
    "    return info.history(period=period)"
   ]
  },
  {
   "cell_type": "markdown",
   "id": "334fd25e",
   "metadata": {},
   "source": [
    "### Feature Engineering\n",
    "---\n",
    "Feature engineering is a technique where data/computer scientists construct new data from other data to allow machine learning models to make better predictions. For example, we can calculate a 5 day SMA based off the price of the last 5 days. This is a new feature that our model can be trained off of and that provides new information despite being based off of the same original data being fed into model.\n",
    "\n",
    "For our model, the new features that are engineered are as follows:\n",
    "\n",
    "1. SMA or Simple Moving Average (10 day, 20 day, and 100 day)\n",
    "2. TEMA or Triple Exponenetial Moving Average (10 day, 20 day, and 100 day)\n",
    "3. RSI or Relative Strength Index\n",
    "4. Rolling High and Rolling Low (10 day)\n",
    "5. Ratio of S&P500 to Stock Price\n",
    "6. Ratio of S&P500 RSI to Stock's RSI\n",
    "\n",
    "To aid us in creating some of these new features we will use a library called [TA-Lib](https://github.com/TA-Lib/ta-lib-python). Specifically TA-Lib will be used to create our SMAs, TEMAs and RSIs. Below is how we use TA-Lib to help us to create these features."
   ]
  },
  {
   "cell_type": "code",
   "execution_count": 233,
   "id": "ec7c95c7",
   "metadata": {},
   "outputs": [],
   "source": [
    "import talib\n",
    "\n",
    "rawdata = gethist(\"AAPL\", \"20y\") #get Apple's stock data for the past 20 years using the function we wrote above\n",
    "\n",
    "price = rawdata[\"Close\"] #each day's stock price can be represented by the close price for that day\n",
    "\n",
    "sma10 = talib.SMA(price, timeperiod = 10) #SMA for the last 10 days\n",
    "sma20 = talib.SMA(price, timeperiod = 20) #SMA for the last 20 days\n",
    "sma100 = talib.SMA(price, timeperiod = 100) #SMA for the last 100 days\n",
    "tema10 = talib.TEMA(price, timeperiod=10) #TEMA for the last 10 days\n",
    "tema20 = talib.TEMA(price, timeperiod=20) #TEMA for the last 10 days\n",
    "tema100 = talib.TEMA(price, timeperiod=100) #TEMA for the last 20 days\n",
    "rsi10 = talib.RSI(price, timeperiod=10) #RSI for the last 10 days"
   ]
  },
  {
   "cell_type": "markdown",
   "id": "9b37f889",
   "metadata": {},
   "source": [
    "For the other features we have to create functions specifically for them. They are as follows:"
   ]
  },
  {
   "cell_type": "code",
   "execution_count": 234,
   "id": "61292da1",
   "metadata": {},
   "outputs": [],
   "source": [
    "import pandas as pd\n",
    "import numpy as np\n",
    "\n",
    "#features that are not included with TALib\n",
    "\n",
    "def rh(data, timeperiod): #calculate the rolling high\n",
    "    rollinghighs = data.copy() \n",
    "    for i in range(0, timeperiod): #the first couple of days will not have a rolling high as the range of days specificed by the timeperiod parameter would include days not in the data\n",
    "        rollinghighs[i] = np.NaN\n",
    "    for i in range(timeperiod, data.size): #go through each day of the data and calculate the max on the last number of days specified by the timeperiod parameter\n",
    "        rollinghighs[i] = max(data[i-timeperiod:i])\n",
    "    return rollinghighs\n",
    "def rl(data, timeperiod): #calculate the rolling low\n",
    "    rollinglows = data.copy()\n",
    "    for i in range(0, timeperiod): #the first couple of days will not have a rolling low as the range of days specificed by the timeperiod parameter would include days not in the data\n",
    "        rollinglows[i] = np.NaN \n",
    "    for i in range(timeperiod, data.size): #go through each day of the data and calculate the min on the last number of days specified by the timeperiod parameter\n",
    "        rollinglows[i] = min(data[i-timeperiod:i])\n",
    "    return rollinglows\n",
    "def mktratioprice(data): #calculate ratio of market's price to stock's price\n",
    "    mkt = gethist(\"^GSPC\", \"20y\") #^GSPC is the S&P500 index symbol on Yahoo Finance. This allows us to get the market data for the S&P500 companies which are highly infuential to short term price movements\n",
    "    mktratio = data.copy()\n",
    "    for i in range(0, data.size):\n",
    "        mktratio[i] = data[i]/mkt[\"Close\"][i] #for each day in the data, divide the S&P500's price with the stock's price to get a ratio for the model to use\n",
    "    return mktratio\n",
    "def mktratioRSI(data, timeperiod): #calculate ratio of market's RSI to stock's RSI\n",
    "    mkt = gethist(\"^GSPC\", \"20y\") # ^GSPC is the S&P500 index symbol on Yahoo Finance. This allows us to get the market data for the S&P500 companies which are highly infuential to short term price movements\n",
    "    mktRSI = talib.RSI(mkt[\"Close\"], timeperiod=timeperiod) #Calculate the S&P500's RSI for the range of days specified by the timeperiod parameter\n",
    "    mktratio = data.copy()\n",
    "    for i in range(timeperiod, data.size):\n",
    "        mktratio[i] = data[i]/mktRSI[i] #for each day in the data, divide the S&P500's RSI with the stock's RSI to get a ratio for the model to use\n",
    "    return mktratio"
   ]
  },
  {
   "cell_type": "markdown",
   "id": "6f578d2b",
   "metadata": {},
   "source": [
    "To make access to all these new features easier, we will combine them into one function and return a single dataframe."
   ]
  },
  {
   "cell_type": "code",
   "execution_count": 235,
   "id": "27fc50ce",
   "metadata": {},
   "outputs": [],
   "source": [
    "def getengineeredfeatures(rawdata): #use rawdata to create a single dataframe consisting of all features (this includes raw and engineered features)\n",
    "    \n",
    "    price = rawdata[\"Close\"] #price of stock\n",
    "    volume = rawdata[\"Volume\"] #volume of stock\n",
    "    \n",
    "    rh10 = rh(price, timeperiod=10) #rolling high on the last 10 days\n",
    "    rl10 = rh(price, timeperiod=10) #rolling low on the last 10 days\n",
    "    \n",
    "    sma10 = talib.SMA(price, timeperiod = 10) #SMA for the last 10 days\n",
    "    sma20 = talib.SMA(price, timeperiod = 20) #SMA for the last 20 days\n",
    "    sma100 = talib.SMA(price, timeperiod = 100) #SMA for the last 100 days\n",
    "    tema10 = talib.TEMA(price, timeperiod=10) #TEMA for the last 10 days\n",
    "    tema20 = talib.TEMA(price, timeperiod=20) #TEMA for the last 10 days\n",
    "    tema100 = talib.TEMA(price, timeperiod=100) #TEMA for the last 20 days\n",
    "    rsi10 = talib.RSI(price, timeperiod=10) #RSI for the last 10 days\n",
    "    \n",
    "    mktratprice = mktratioprice(price) #Ratio between market's price and stock's price\n",
    "    mktratiorsi10 = mktratioRSI(rsi10, 10) #Ratio between market's RSI and stock's RSI\n",
    "    \n",
    "    #Organize all the features and pack them into one dataframe\n",
    "    d = {'price': price, 'volume': volume, 'sma10': sma10, 'sma20': sma20, 'sma100': sma100, 'tema10': tema10, 'tema20': tema20, 'tema100':tema100, 'rh10':rh10, 'rl10': rl10, 'RSI10':rsi10, 'mktratioprice': mktratprice, 'mktratioRSI10':mktratiorsi10}\n",
    "    df = pd.DataFrame(data=d)\n",
    "    \n",
    "    df = df.dropna() #delete all the rows with no values so there are no errors later on\n",
    "    \n",
    "    return df"
   ]
  },
  {
   "cell_type": "markdown",
   "id": "0d627f57",
   "metadata": {},
   "source": [
    "### Formatting and Preparing the Data\n",
    "---\n",
    "Because of the way our model needs to be trained on the data, we have to format it a specific way. To start we want to scale our features to be between 0 and 1 rather than huge number so that our model doesn't have trouble training on the data. We can do this simply with a library called **scikit-learn** sometimes called **sklearn**."
   ]
  },
  {
   "cell_type": "code",
   "execution_count": 236,
   "id": "ae5b3f18",
   "metadata": {},
   "outputs": [
    {
     "name": "stdout",
     "output_type": "stream",
     "text": [
      "         price    volume     sma10     sma20    sma100    tema10    tema20  \\\n",
      "0     0.000083  0.127508  0.000098  0.000079  0.000000  0.000065  0.000081   \n",
      "1     0.000000  0.129220  0.000069  0.000073  0.000004  0.000022  0.000047   \n",
      "2     0.000024  0.078627  0.000049  0.000067  0.000009  0.000006  0.000026   \n",
      "3     0.000030  0.073338  0.000036  0.000057  0.000014  0.000000  0.000010   \n",
      "4     0.000073  0.060792  0.000027  0.000052  0.000020  0.000018  0.000009   \n",
      "...        ...       ...       ...       ...       ...       ...       ...   \n",
      "4734  0.843954  0.007160  0.862745  0.850288  0.846266  0.859752  0.869517   \n",
      "4735  0.821379  0.007092  0.861036  0.852458  0.846100  0.846439  0.862239   \n",
      "4736  0.823764  0.004738  0.857919  0.854346  0.846073  0.838483  0.856572   \n",
      "4737  0.826482  0.003954  0.856624  0.856566  0.846512  0.834473  0.852366   \n",
      "4738  0.811562  0.006059  0.854399  0.857416  0.847044  0.825159  0.844805   \n",
      "\n",
      "       tema100      rh10      rl10     RSI10  mktratioprice  mktratioRSI10  \n",
      "0     0.000015  0.000199  0.000199  0.397025       0.000278       0.306223  \n",
      "1     0.000010  0.000189  0.000189  0.296860       0.000000       0.262165  \n",
      "2     0.000007  0.000119  0.000119  0.342387       0.000017       0.221052  \n",
      "3     0.000004  0.000071  0.000071  0.353708       0.000025       0.216810  \n",
      "4     0.000003  0.000071  0.000071  0.433948       0.000178       0.255370  \n",
      "...        ...       ...       ...       ...            ...            ...  \n",
      "4734  0.813103  0.859360  0.859360  0.597192       0.900817       0.332473  \n",
      "4735  0.814859  0.859360  0.859360  0.457254       0.894656       0.348396  \n",
      "4736  0.816693  0.859360  0.859360  0.470972       0.898700       0.367260  \n",
      "4737  0.818619  0.859360  0.859360  0.487495       0.896860       0.333754  \n",
      "4738  0.819579  0.859360  0.859360  0.399604       0.890026       0.325788  \n",
      "\n",
      "[4739 rows x 13 columns]\n"
     ]
    }
   ],
   "source": [
    "from sklearn.preprocessing import MinMaxScaler\n",
    "\n",
    "features = getengineeredfeatures(rawdata) #use the rawdata we got from the stock market to make the features with the function we created earlier\n",
    "\n",
    "scaler = MinMaxScaler() #create a scaler to scale our features between 0 and 1\n",
    "\n",
    "#scale the data between 0 and 1 which makes the model learn better. Extreme numbers like volume vs RSI will cause weights to be skewed in the model.\n",
    "scaleddata = pd.DataFrame(scaler.fit_transform(features), columns=features.columns)\n",
    "print(scaleddata)"
   ]
  },
  {
   "cell_type": "markdown",
   "id": "a2115756",
   "metadata": {},
   "source": [
    "Now that we have the scaled data we need to format it so that we can properly train our model. We have to frame our data so that our model is given two parts, the data (training) and the output we want from it (prediction). This will train the model to understand what we want to predict so when it is given new data it can make a good prediction rather than just a random guess.\n",
    "\n",
    "So, we split the scaled data into these training and prediction parts using the following function:"
   ]
  },
  {
   "cell_type": "code",
   "execution_count": 237,
   "id": "b59ab8ab",
   "metadata": {},
   "outputs": [],
   "source": [
    "def series_to_supervised(data, n_in=1, n_out=1, dropnan=True):\n",
    "    \"\"\"\n",
    "    Frame a time series as a supervised learning dataset.\n",
    "    Arguments:\n",
    "    data: Sequence of observations as a list or NumPy array.\n",
    "    n_in: Number of lag observations as input (X).\n",
    "    n_out: Number of observations as output (y).\n",
    "    dropnan: Boolean whether or not to drop rows with NaN values.\n",
    "    Returns:\n",
    "    Pandas DataFrame of series framed for supervised learning.\n",
    "    \"\"\"\n",
    "    n_vars = 1 if type(data) is list else data.shape[1]\n",
    "    df = pd.DataFrame(data)\n",
    "    cols, names = list(), list()\n",
    "    # input sequence (t-n, ... t-1)\n",
    "    for i in range(n_in, 0, -1):\n",
    "        cols.append(df.shift(i))\n",
    "        names += [('var%d(t-%d)' % (j+1, i)) for j in range(n_vars)]\n",
    "    # forecast sequence (t, t+1, ... t+n)\n",
    "    for i in range(0, n_out):\n",
    "        cols.append(df.shift(-i))\n",
    "        if i == 0:\n",
    "            names += [('var%d(t)' % (j+1)) for j in range(n_vars)]\n",
    "        else:\n",
    "            names += [('var%d(t+%d)' % (j+1, i)) for j in range(n_vars)]\n",
    "    # put it all together\n",
    "    agg = pd.concat(cols, axis=1)\n",
    "    agg.columns = names\n",
    "    # drop rows with NaN values\n",
    "    if dropnan: \n",
    "        agg.dropna(inplace=True)\n",
    "    return agg"
   ]
  },
  {
   "cell_type": "markdown",
   "id": "f7a8f792",
   "metadata": {},
   "source": [
    "Don't worry if the function above does not make a lot of sense. Just understand that it is splitting the inputed data (defined by the data parameter of the function) into the two parts we talked about above. The parameters *n_in* and *n_out* serve to describe the dimensionality of those two parts. For example if we want our model to take in the last 7 days and predict for the next day, our *n_in* would be 7 and our *n_out* would be 1. If we wanted our model to take in the last 30 days and predict the next 7, our *n_in* would be 30 and our *n_out* would be 7. \n",
    "\n",
    "Now we call this function, which returns another pandas dataframe."
   ]
  },
  {
   "cell_type": "code",
   "execution_count": 238,
   "id": "c596c5a0",
   "metadata": {},
   "outputs": [],
   "source": [
    "preppeddata = series_to_supervised(scaleddata, 7, 1) #train on the last 7 days to predict the next 1 days"
   ]
  },
  {
   "cell_type": "markdown",
   "id": "6d3415ba",
   "metadata": {},
   "source": [
    "The new dataframe is slightly different from the one we created before with the *getengineeredfeatures* function. First the column names are not what we named them, rather they are just var1, var2, etc. They also have the time index next them. var1(t-7) means that the value stored there is variable 1 (or stock price in our case) 7 days before the next day. var2(t-1) is variable 2 (or volume) a day before the next day. \n",
    "\n",
    "var1(t) is the price for tommorow which is what we want to predict, but we also have all the other features, like var2, var3, and so on. We don't want to predict these so we will drop them from the dataframe."
   ]
  },
  {
   "cell_type": "code",
   "execution_count": 239,
   "id": "c5cd1d73",
   "metadata": {},
   "outputs": [
    {
     "name": "stdout",
     "output_type": "stream",
     "text": [
      "      var1(t-7)  var2(t-7)  var3(t-7)  var4(t-7)  var5(t-7)  var6(t-7)  \\\n",
      "7      0.000083   0.127508   0.000098   0.000079   0.000000   0.000065   \n",
      "8      0.000000   0.129220   0.000069   0.000073   0.000004   0.000022   \n",
      "9      0.000024   0.078627   0.000049   0.000067   0.000009   0.000006   \n",
      "10     0.000030   0.073338   0.000036   0.000057   0.000014   0.000000   \n",
      "11     0.000073   0.060792   0.000027   0.000052   0.000020   0.000018   \n",
      "...         ...        ...        ...        ...        ...        ...   \n",
      "4734   0.839175   0.008666   0.837875   0.814289   0.846031   0.861304   \n",
      "4735   0.833360   0.006235   0.841781   0.819256   0.846056   0.856603   \n",
      "4736   0.835412   0.006655   0.844783   0.824351   0.845879   0.853630   \n",
      "4737   0.851164   0.008090   0.851050   0.829873   0.845727   0.858233   \n",
      "4738   0.847559   0.007943   0.856219   0.834872   0.845725   0.859139   \n",
      "\n",
      "      var7(t-7)  var8(t-7)  var9(t-7)  var10(t-7)  ...  var5(t-1)  var6(t-1)  \\\n",
      "7      0.000081   0.000015   0.000199    0.000199  ...   0.000030   0.000041   \n",
      "8      0.000047   0.000010   0.000189    0.000189  ...   0.000035   0.000035   \n",
      "9      0.000026   0.000007   0.000119    0.000119  ...   0.000042   0.000065   \n",
      "10     0.000010   0.000004   0.000071    0.000071  ...   0.000049   0.000091   \n",
      "11     0.000009   0.000003   0.000071    0.000071  ...   0.000055   0.000105   \n",
      "...         ...        ...        ...         ...  ...        ...        ...   \n",
      "4734   0.856131   0.786533   0.854280    0.854280  ...   0.846132   0.863739   \n",
      "4735   0.857284   0.790001   0.854280    0.854280  ...   0.846266   0.859752   \n",
      "4736   0.858318   0.793466   0.854280    0.854280  ...   0.846100   0.846439   \n",
      "4737   0.862839   0.797746   0.854280    0.854280  ...   0.846073   0.838483   \n",
      "4738   0.865183   0.801650   0.854280    0.854280  ...   0.846512   0.834473   \n",
      "\n",
      "      var7(t-1)  var8(t-1)  var9(t-1)  var10(t-1)  var11(t-1)  var12(t-1)  \\\n",
      "7      0.000007   0.000002   0.000064    0.000064    0.439730    0.000367   \n",
      "8      0.000000   0.000000   0.000016    0.000016    0.382542    0.000330   \n",
      "9      0.000013   0.000002   0.000000    0.000000    0.519875    0.000552   \n",
      "10     0.000028   0.000005   0.000017    0.000017    0.541766    0.000591   \n",
      "11     0.000038   0.000006   0.000030    0.000030    0.522234    0.000561   \n",
      "...         ...        ...        ...         ...         ...         ...   \n",
      "4734   0.870770   0.809873   0.859360    0.859360    0.644538    0.905196   \n",
      "4735   0.869517   0.813103   0.859360    0.859360    0.597192    0.900817   \n",
      "4736   0.862239   0.814859   0.859360    0.859360    0.457254    0.894656   \n",
      "4737   0.856572   0.816693   0.859360    0.859360    0.470972    0.898700   \n",
      "4738   0.852366   0.818619   0.859360    0.859360    0.487495    0.896860   \n",
      "\n",
      "      var13(t-1)   var1(t)  \n",
      "7       0.404835  0.000042  \n",
      "8       0.431364  0.000115  \n",
      "9       0.432063  0.000128  \n",
      "10      0.426466  0.000119  \n",
      "11      0.417759  0.000108  \n",
      "...          ...       ...  \n",
      "4734    0.344096  0.843954  \n",
      "4735    0.332473  0.821379  \n",
      "4736    0.348396  0.823764  \n",
      "4737    0.367260  0.826482  \n",
      "4738    0.333754  0.811562  \n",
      "\n",
      "[4732 rows x 92 columns]\n"
     ]
    }
   ],
   "source": [
    "preppeddata.drop(preppeddata.columns[range(92, 104)], axis = 1, inplace=True) #drop all the features we don't want to predict\n",
    "print(preppeddata)"
   ]
  },
  {
   "cell_type": "markdown",
   "id": "32a2dd60",
   "metadata": {},
   "source": [
    "Now that we have the data split into the training and prediction parts, we can finally create two seperate dataframes for the two parts. We also have to reshape the input so that we can properly feed it into our model."
   ]
  },
  {
   "cell_type": "code",
   "execution_count": 240,
   "id": "56ac6626",
   "metadata": {},
   "outputs": [],
   "source": [
    "vals = preppeddata.values\n",
    "data_X, data_Y = vals[:, :-1], vals[:, -1] # datax holds the training part and datay holds the prediction part for our model\n",
    "\n",
    "# reshape input to be 3D [samples, timesteps, features]\n",
    "data_X = data_X.reshape((data_X.shape[0], 1, data_X.shape[1]))"
   ]
  },
  {
   "cell_type": "markdown",
   "id": "3a2beddc",
   "metadata": {},
   "source": [
    "### The Model Itself\n",
    "---\n",
    "*If you don't know what a neural network is, I recommend that you look at this [reference](https://www.investopedia.com/terms/n/neuralnetwork.asp) which looks at neural networks in a financial context.*\n",
    "\n",
    "The model we use will be a type of recurrent neural network (RNN) called Long Short Term Memory (LSTM). A recurrent neural network is a type of neural network that uses the output from its previous prediction (ie. its prediction for the day before) to influence its next prediction (ie. its prediction for the next day). \n",
    "\n",
    "Unfortunately, RNNs have trouble allowing days from futher in the past to influence their predictions for the future. This is where LSTMs come in. The LSTM is a variation of RNNs which allows for datapoints much further back in time to influence the model's predictions, hence the reference to Long Term Memory in the name LSTM. It also allows recent days to still influence its prediction, balancing between allowing data from further back in time as well as data from the more recent past to make its predictions. \n",
    "\n",
    "For this reason, an LSTM model is utilized for its prediction capabilities as stock prices are generally related to the stock's past, including anything from yesterday to a couple of months ago.\n",
    "\n",
    "To atcually code the model, we will use a API called **keras**. This will allow use to utilize LSTMs without having to get into the nitty gritty of coding them from scratch. First, let's import what we need."
   ]
  },
  {
   "cell_type": "code",
   "execution_count": 241,
   "id": "b4dd4128",
   "metadata": {},
   "outputs": [],
   "source": [
    "from keras.models import Sequential\n",
    "from keras.layers import LSTM, Dense"
   ]
  },
  {
   "cell_type": "markdown",
   "id": "085ee394",
   "metadata": {},
   "source": [
    "With this we can now build the model:"
   ]
  },
  {
   "cell_type": "code",
   "execution_count": 242,
   "id": "b0d5fdea",
   "metadata": {},
   "outputs": [],
   "source": [
    "model = Sequential() #initialize the keras AI model\n",
    "model.add(LSTM(50, input_shape=(data_X.shape[1], data_X.shape[2]), activation=\"relu\")) #create the LSTM layer\n",
    "model.add(Dense(1)) #this is the number of days we want to predict for. Since we are only predicting for the next day, we say we want the output of the Dense layer to be 1-dimensional"
   ]
  },
  {
   "cell_type": "markdown",
   "id": "042e526e",
   "metadata": {},
   "source": [
    "### Training the Model\n",
    "---\n",
    "\n",
    "To train the model, let's first split our data into the data we want to train the model on, and then the data we want to test it on. We want to make sure these are different data so the test data we feed the model is different from anything it encountered while training to see if our model can truly predict on new information."
   ]
  },
  {
   "cell_type": "code",
   "execution_count": 243,
   "id": "af48e868",
   "metadata": {},
   "outputs": [],
   "source": [
    "tdpy = 237 # There 237 trading days a year\n",
    "\n",
    "train_X, train_Y = data_X[:tdpy * 18, :], data_Y[:tdpy * 18] #training data for the model is the last 18 years\n",
    "test_X, test_Y = data_X[tdpy * 19:tdpy * 20, :], data_Y[tdpy * 19:tdpy * 20] #testing data for the model is the last year"
   ]
  },
  {
   "cell_type": "markdown",
   "id": "776b26fc",
   "metadata": {},
   "source": [
    "Now we can finally compile and train the model."
   ]
  },
  {
   "cell_type": "code",
   "execution_count": 244,
   "id": "55366bc2",
   "metadata": {},
   "outputs": [
    {
     "name": "stdout",
     "output_type": "stream",
     "text": [
      "Epoch 1/40\n",
      "60/60 - 5s - loss: 0.0169 - 5s/epoch - 76ms/step\n",
      "Epoch 2/40\n",
      "60/60 - 0s - loss: 0.0398 - 306ms/epoch - 5ms/step\n",
      "Epoch 3/40\n",
      "60/60 - 0s - loss: 0.0317 - 303ms/epoch - 5ms/step\n",
      "Epoch 4/40\n",
      "60/60 - 0s - loss: 0.0198 - 290ms/epoch - 5ms/step\n",
      "Epoch 5/40\n",
      "60/60 - 0s - loss: 0.0120 - 289ms/epoch - 5ms/step\n",
      "Epoch 6/40\n",
      "60/60 - 0s - loss: 0.0153 - 290ms/epoch - 5ms/step\n",
      "Epoch 7/40\n",
      "60/60 - 0s - loss: 0.0232 - 296ms/epoch - 5ms/step\n",
      "Epoch 8/40\n",
      "60/60 - 0s - loss: 0.0070 - 307ms/epoch - 5ms/step\n",
      "Epoch 9/40\n",
      "60/60 - 0s - loss: 0.0064 - 305ms/epoch - 5ms/step\n",
      "Epoch 10/40\n",
      "60/60 - 0s - loss: 0.0072 - 290ms/epoch - 5ms/step\n",
      "Epoch 11/40\n",
      "60/60 - 0s - loss: 0.0119 - 288ms/epoch - 5ms/step\n",
      "Epoch 12/40\n",
      "60/60 - 0s - loss: 0.0075 - 301ms/epoch - 5ms/step\n",
      "Epoch 13/40\n",
      "60/60 - 0s - loss: 0.0062 - 281ms/epoch - 5ms/step\n",
      "Epoch 14/40\n",
      "60/60 - 0s - loss: 0.0076 - 297ms/epoch - 5ms/step\n",
      "Epoch 15/40\n",
      "60/60 - 0s - loss: 0.0058 - 296ms/epoch - 5ms/step\n",
      "Epoch 16/40\n",
      "60/60 - 0s - loss: 0.0059 - 299ms/epoch - 5ms/step\n",
      "Epoch 17/40\n",
      "60/60 - 0s - loss: 0.0105 - 290ms/epoch - 5ms/step\n",
      "Epoch 18/40\n",
      "60/60 - 0s - loss: 0.0086 - 283ms/epoch - 5ms/step\n",
      "Epoch 19/40\n",
      "60/60 - 0s - loss: 0.0058 - 291ms/epoch - 5ms/step\n",
      "Epoch 20/40\n",
      "60/60 - 0s - loss: 0.0057 - 300ms/epoch - 5ms/step\n",
      "Epoch 21/40\n",
      "60/60 - 0s - loss: 0.0069 - 289ms/epoch - 5ms/step\n",
      "Epoch 22/40\n",
      "60/60 - 0s - loss: 0.0053 - 289ms/epoch - 5ms/step\n",
      "Epoch 23/40\n",
      "60/60 - 0s - loss: 0.0058 - 290ms/epoch - 5ms/step\n",
      "Epoch 24/40\n",
      "60/60 - 0s - loss: 0.0073 - 291ms/epoch - 5ms/step\n",
      "Epoch 25/40\n",
      "60/60 - 0s - loss: 0.0056 - 281ms/epoch - 5ms/step\n",
      "Epoch 26/40\n",
      "60/60 - 0s - loss: 0.0066 - 292ms/epoch - 5ms/step\n",
      "Epoch 27/40\n",
      "60/60 - 0s - loss: 0.0108 - 305ms/epoch - 5ms/step\n",
      "Epoch 28/40\n",
      "60/60 - 0s - loss: 0.0058 - 290ms/epoch - 5ms/step\n",
      "Epoch 29/40\n",
      "60/60 - 0s - loss: 0.0062 - 288ms/epoch - 5ms/step\n",
      "Epoch 30/40\n",
      "60/60 - 0s - loss: 0.0066 - 289ms/epoch - 5ms/step\n",
      "Epoch 31/40\n",
      "60/60 - 0s - loss: 0.0094 - 288ms/epoch - 5ms/step\n",
      "Epoch 32/40\n",
      "60/60 - 0s - loss: 0.0080 - 288ms/epoch - 5ms/step\n",
      "Epoch 33/40\n",
      "60/60 - 0s - loss: 0.0062 - 288ms/epoch - 5ms/step\n",
      "Epoch 34/40\n",
      "60/60 - 0s - loss: 0.0091 - 289ms/epoch - 5ms/step\n",
      "Epoch 35/40\n",
      "60/60 - 0s - loss: 0.0075 - 289ms/epoch - 5ms/step\n",
      "Epoch 36/40\n",
      "60/60 - 0s - loss: 0.0062 - 318ms/epoch - 5ms/step\n",
      "Epoch 37/40\n",
      "60/60 - 0s - loss: 0.0086 - 290ms/epoch - 5ms/step\n",
      "Epoch 38/40\n",
      "60/60 - 0s - loss: 0.0067 - 289ms/epoch - 5ms/step\n",
      "Epoch 39/40\n",
      "60/60 - 0s - loss: 0.0052 - 288ms/epoch - 5ms/step\n",
      "Epoch 40/40\n",
      "60/60 - 0s - loss: 0.0051 - 297ms/epoch - 5ms/step\n"
     ]
    },
    {
     "data": {
      "text/plain": [
       "<keras.callbacks.History at 0x22016f906a0>"
      ]
     },
     "execution_count": 244,
     "metadata": {},
     "output_type": "execute_result"
    }
   ],
   "source": [
    "model.compile(loss='mae', optimizer='adam')\n",
    "model.fit(train_X, train_Y, epochs=40, batch_size=72, verbose=2, shuffle=False)"
   ]
  },
  {
   "cell_type": "markdown",
   "id": "03eea0f5",
   "metadata": {},
   "source": [
    "The model is now ready to predict stock prices!"
   ]
  },
  {
   "cell_type": "markdown",
   "id": "579c7c81",
   "metadata": {},
   "source": [
    "### Predicting With the Model\n",
    "---\n",
    "All we have to do is call the *predict* function for our model and give it the data we want to predict on. In this case we will use our testing data to see how well our model can predict."
   ]
  },
  {
   "cell_type": "code",
   "execution_count": 245,
   "id": "01fef6f9",
   "metadata": {},
   "outputs": [],
   "source": [
    "prediction = model.predict(test_X, verbose=0) #tell the model to predict on the testing data"
   ]
  },
  {
   "cell_type": "markdown",
   "id": "6a145413",
   "metadata": {},
   "source": []
  },
  {
   "cell_type": "markdown",
   "id": "73e7f455",
   "metadata": {},
   "source": [
    "We can plot this prediction versus what atcually happened over the testing data."
   ]
  },
  {
   "cell_type": "code",
   "execution_count": 246,
   "id": "656a6a8b",
   "metadata": {},
   "outputs": [
    {
     "data": {
      "image/png": "[encoded data removed]",
      "text/plain": [
       "<Figure size 432x288 with 1 Axes>"
      ]
     },
     "metadata": {
      "needs_background": "light"
     },
     "output_type": "display_data"
    }
   ],
   "source": [
    "import matplotlib.pyplot as plt\n",
    "\n",
    "plt.plot(test_Y, label=\"atcual\") #the atcual prices over the testing period\n",
    "plt.plot(prediction, label=\"prediction\") #the predicted prices that our model generates for the testing period\n",
    "\n",
    "plt.legend()\n",
    "plt.show()"
   ]
  },
  {
   "cell_type": "markdown",
   "id": "065f7763",
   "metadata": {},
   "source": [
    "Congrats! Now we have a model that can predict the stock prices for Apple!"
   ]
  }
 ],
 "metadata": {
  "kernelspec": {
   "display_name": "Python 3 (ipykernel)",
   "language": "python",
   "name": "python3"
  },
  "language_info": {
   "codemirror_mode": {
    "name": "ipython",
    "version": 3
   },
   "file_extension": ".py",
   "mimetype": "text/x-python",
   "name": "python",
   "nbconvert_exporter": "python",
   "pygments_lexer": "ipython3",
   "version": "3.10.10"
  }
 },
 "nbformat": 4,
 "nbformat_minor": 5
}
